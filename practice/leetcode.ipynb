{
 "cells": [
  {
   "cell_type": "markdown",
   "metadata": {},
   "source": [
    "# reverse word"
   ]
  },
  {
   "cell_type": "code",
   "execution_count": 1,
   "metadata": {},
   "outputs": [],
   "source": [
    "class Solution(object):\n",
    "    def reverseWords(self, s):\n",
    "        \"\"\"\n",
    "        :type s: str\n",
    "        :rtype: str\n",
    "\n",
    "        \"\"\"\n",
    "        list1=s.split()\n",
    "        list1.reverse()\n",
    "        list2=\" \".join(list1)\n",
    "        return list2"
   ]
  },
  {
   "cell_type": "markdown",
   "metadata": {},
   "source": [
    "# ispalindrome"
   ]
  },
  {
   "cell_type": "code",
   "execution_count": 2,
   "metadata": {},
   "outputs": [],
   "source": [
    "class Solution(object):\n",
    "    import re\n",
    "    def isPalindrome(self, s):\n",
    "        \"\"\"\n",
    "        :type s: str\n",
    "        :rtype: bool\n",
    "        \"\"\"\n",
    "        keyword=format(s).lower()\n",
    "        m = re.findall(r\"[a-z\\d]\", keyword)\n",
    "        t=m[:]\n",
    "        t.reverse()\n",
    "\n",
    "        if m==t:\n",
    "            return True\n",
    "        else:\n",
    "            return False\n"
   ]
  },
  {
   "cell_type": "markdown",
   "metadata": {},
   "source": [
    "# two sum"
   ]
  },
  {
   "cell_type": "code",
   "execution_count": 3,
   "metadata": {},
   "outputs": [],
   "source": [
    "class Solution(object):\n",
    "    def twoSum(self, nums, target):\n",
    "        \"\"\"\n",
    "        :type nums: List[int]\n",
    "        :type target: int\n",
    "        :rtype: List[int]\n",
    "        \"\"\"\n",
    "\n",
    "        for i in range(len(nums)):\n",
    "            for j in range(i+1,len(nums)):\n",
    "                if nums[i]+nums[j]==target:\n",
    "                    return [i,j]"
   ]
  },
  {
   "cell_type": "markdown",
   "metadata": {},
   "source": [
    "# generate"
   ]
  },
  {
   "cell_type": "code",
   "execution_count": 5,
   "metadata": {},
   "outputs": [],
   "source": [
    "class Solution(object):\n",
    "    def generate(self, numRows):\n",
    "        \"\"\"\n",
    "        :type numRows: int\n",
    "        :rtype: List[List[int]]\n",
    "        \"\"\"\n",
    "        list1= [None]*numRows\n",
    "        for i in range(len(list1)):  \n",
    "            list1[i] = [0]* numRows\n",
    "        for i in range(numRows):\n",
    "            for j in range(0,i+1):\n",
    "                if 0<j and j<i:\n",
    "                    list1[i][j]=list[i-1][j-1]+list[i-1][j]\n",
    "                else:\n",
    "                    list1[i][j]=1\n",
    "\n",
    "        for i in range(numRows):\n",
    "            list1[i]=list1[i][:(i+1)]\n",
    "        return list"
   ]
  },
  {
   "cell_type": "markdown",
   "metadata": {},
   "source": [
    "# get row"
   ]
  },
  {
   "cell_type": "code",
   "execution_count": 6,
   "metadata": {},
   "outputs": [],
   "source": [
    "class Solution(object):\n",
    "    def getRow(self, rowIndex):\n",
    "        \"\"\"\n",
    "        :type rowIndex: int\n",
    "        :rtype: List[int]\n",
    "        \"\"\"\n",
    "        numRows=rowIndex+1\n",
    "        list= [1]*numRows\n",
    "        for i in range(len(list)):  \n",
    "            list[i] = [0]* numRows\n",
    "        for i in range(numRows):\n",
    "            for j in range(0,i+1):\n",
    "                if 0<j and j<i:\n",
    "                    list[i][j]=list[i-1][j-1]+list[i-1][j]\n",
    "                else:\n",
    "                    list[i][j]=1\n",
    "\n",
    "        for i in range(numRows):\n",
    "            list[i]=list[i][:(i+1)]\n",
    "        \n",
    "        return list[-1]   "
   ]
  },
  {
   "cell_type": "markdown",
   "metadata": {},
   "source": [
    "# majority element"
   ]
  },
  {
   "cell_type": "code",
   "execution_count": null,
   "metadata": {},
   "outputs": [],
   "source": [
    "class Solution(object):\n",
    "    def majorityElement(self, nums):\n",
    "        \"\"\"\n",
    "        :type nums: List[int]\n",
    "        :rtype: int\n",
    "        \"\"\"\n",
    "        n=nums\n",
    "        # for i in range(0,int((len(n)+1)/2)):\n",
    "        #     count=1\n",
    "        #     for j in range(i+1,len(n)):\n",
    "        #         if n[i]==n[j]:\n",
    "        #             count+=1\n",
    "        #     if count>len(n)/2:\n",
    "        #         return (n[i])\n",
    "\n",
    "        list.sort (n)\n",
    "        return n[(int(len(n)/2))]"
   ]
  }
 ],
 "metadata": {
  "kernelspec": {
   "display_name": "Python 3",
   "language": "python",
   "name": "python3"
  },
  "language_info": {
   "codemirror_mode": {
    "name": "ipython",
    "version": 3
   },
   "file_extension": ".py",
   "mimetype": "text/x-python",
   "name": "python",
   "nbconvert_exporter": "python",
   "pygments_lexer": "ipython3",
   "version": "3.6.4"
  }
 },
 "nbformat": 4,
 "nbformat_minor": 2
}
